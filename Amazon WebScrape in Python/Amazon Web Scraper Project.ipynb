{
 "cells": [
  {
   "cell_type": "code",
   "execution_count": 1,
   "id": "cfa1ebfb",
   "metadata": {},
   "outputs": [],
   "source": [
    "#import libraries\n",
    "\n",
    "from bs4 import BeautifulSoup\n",
    "import requests\n",
    "import time\n",
    "import datetime\n",
    "\n",
    "import pandas as pd\n",
    "\n",
    "import smtplib\n"
   ]
  },
  {
   "cell_type": "code",
   "execution_count": 2,
   "id": "7d2ac4c6",
   "metadata": {},
   "outputs": [
    {
     "name": "stdout",
     "output_type": "stream",
     "text": [
      "\n",
      "            Bach Trumpet Mouthpiece 3C\n",
      "           \n",
      "\n",
      "                         $65.00\n",
      "                        \n"
     ]
    }
   ],
   "source": [
    "#connect to website\n",
    "\n",
    "URL = 'https://www.amazon.com/Bach-3513C-Trumpet-Mouthpiece-3C/dp/B0002E2ACK/ref=sr_1_5?keywords=bach%2Btrumpet%2Bmouthpiece%2B3c&qid=1665789238&qu=eyJxc2MiOiIyLjUxIiwicXNhIjoiMS4wNiIsInFzcCI6IjAuNzAifQ%3D%3D&sprefix=bach%2Btrumpet%2B%2Caps%2C102&sr=8-5&ufe=app_do%3Aamzn1.fos.006c50ae-5d4c-4777-9bc0-4513d670b6bc&th=1'\n",
    " \n",
    "headers = {\"User-Agent\": \"Mozilla/5.0 (Windows NT 10.0; Win64; x64) AppleWebKit/537.36 (KHTML, like Gecko) Chrome/78.0.3904.108 Safari/537.36\", \"Accept-Encoding\":\"gzip, deflate\", \"Accept\":\"text/html,application/xhtml+xml,application/xml;q=0.9,*/*;q=0.8\", \"DNT\":\"1\",\"Connection\":\"close\", \"Upgrade-Insecure-Requests\":\"1\"}\n",
    "\n",
    "page = requests.get(URL, headers=headers)\n",
    "\n",
    "soup1 = BeautifulSoup(page.content, \"html.parser\")\n",
    "\n",
    "soup2 = BeautifulSoup(soup1.prettify(), \"html.parser\")\n",
    "\n",
    "title = soup2.find(id=\"productTitle\").get_text()\n",
    "\n",
    "price = soup2.find('span', {'class':'a-offscreen'}).get_text()\n",
    "\n",
    "print(title)\n",
    "print(price)\n"
   ]
  },
  {
   "cell_type": "code",
   "execution_count": 3,
   "id": "d0d0c7ad",
   "metadata": {},
   "outputs": [
    {
     "name": "stdout",
     "output_type": "stream",
     "text": [
      "Bach Trumpet Mouthpiece 3C\n",
      "65.00\n"
     ]
    }
   ],
   "source": [
    "price = price.strip()[1:]\n",
    "title = title.strip()\n",
    "\n",
    "print(title)\n",
    "print(price)\n",
    "\n",
    "today = datetime.date.today()"
   ]
  },
  {
   "cell_type": "code",
   "execution_count": 4,
   "id": "e23cb2ab",
   "metadata": {},
   "outputs": [],
   "source": [
    "import csv\n",
    "\n",
    "header = [\"Title\", \"Price\", \"Date\"]\n",
    "data = [title,price,today]\n",
    "\n",
    "with open(\"AmazonWebScraperData.csv\", \"w\", newline=\"\", encoding=\"UTF8\") as f:\n",
    "    writer = csv.writer(f)\n",
    "    writer.writerow(header)\n",
    "    writer.writerow(data)\n",
    "    "
   ]
  },
  {
   "cell_type": "code",
   "execution_count": 5,
   "id": "16a71858",
   "metadata": {},
   "outputs": [
    {
     "name": "stdout",
     "output_type": "stream",
     "text": [
      "                        Title  Price        Date\n",
      "0  Bach Trumpet Mouthpiece 3C   65.0  2022-10-14\n"
     ]
    }
   ],
   "source": [
    "df = pd.read_csv(r\"C:\\Users\\Reed\\AmazonWebScraperData.csv\")\n",
    "print(df)"
   ]
  },
  {
   "cell_type": "code",
   "execution_count": 56,
   "id": "00a841cb",
   "metadata": {},
   "outputs": [],
   "source": [
    "#Appending data to the csv\n",
    "\n",
    "with open(\"AmazonWebScraperData.csv\", \"a+\", newline=\"\", encoding=\"UTF8\") as f:\n",
    "    writer = csv.writer(f)\n",
    "    writer.writerow(data)"
   ]
  },
  {
   "cell_type": "code",
   "execution_count": 8,
   "id": "d223e07b",
   "metadata": {},
   "outputs": [],
   "source": [
    "def check_price():\n",
    "    URL = 'https://www.amazon.com/Bach-3513C-Trumpet-Mouthpiece-3C/dp/B0002E2ACK/ref=sr_1_5?keywords=bach%2Btrumpet%2Bmouthpiece%2B3c&qid=1665789238&qu=eyJxc2MiOiIyLjUxIiwicXNhIjoiMS4wNiIsInFzcCI6IjAuNzAifQ%3D%3D&sprefix=bach%2Btrumpet%2B%2Caps%2C102&sr=8-5&ufe=app_do%3Aamzn1.fos.006c50ae-5d4c-4777-9bc0-4513d670b6bc&th=1'\n",
    " \n",
    "    headers = {\"User-Agent\": \"Mozilla/5.0 (Windows NT 10.0; Win64; x64) AppleWebKit/537.36 (KHTML, like Gecko) Chrome/78.0.3904.108 Safari/537.36\", \"Accept-Encoding\":\"gzip, deflate\", \"Accept\":\"text/html,application/xhtml+xml,application/xml;q=0.9,*/*;q=0.8\", \"DNT\":\"1\",\"Connection\":\"close\", \"Upgrade-Insecure-Requests\":\"1\"}\n",
    "\n",
    "    page = requests.get(URL, headers=headers)\n",
    "\n",
    "    soup1 = BeautifulSoup(page.content, \"html.parser\")\n",
    "\n",
    "    soup2 = BeautifulSoup(soup1.prettify(), \"html.parser\")\n",
    "\n",
    "    title = soup2.find(id=\"productTitle\").get_text()\n",
    "\n",
    "    price = soup2.find('span', {'class':'a-offscreen'}).get_text()\n",
    "    \n",
    "    price = price.strip()[1:]\n",
    "    title = title.strip()\n",
    "    \n",
    "    today = datetime.date.today()\n",
    "    \n",
    "    header = [\"Title\", \"Price\", \"Date\"]\n",
    "    data = [title,price,today]\n",
    "    \n",
    "    with open(\"AmazonWebScraperData.csv\", \"a+\", newline=\"\", encoding=\"UTF8\") as f:\n",
    "        writer = csv.writer(f)\n",
    "        writer.writerow(data)\n",
    "    \n",
    "    #Email functionality, commenting out due to it requiring my personal login.\n",
    "    #if(price < 60):\n",
    "        #send_mail()"
   ]
  },
  {
   "cell_type": "code",
   "execution_count": null,
   "id": "8d606dcb",
   "metadata": {},
   "outputs": [],
   "source": [
    "while(True):\n",
    "    check_price()\n",
    "    time.sleep(86400)"
   ]
  },
  {
   "cell_type": "code",
   "execution_count": 61,
   "id": "aed0490d",
   "metadata": {},
   "outputs": [
    {
     "name": "stdout",
     "output_type": "stream",
     "text": [
      "                        Title  Price        Date\n",
      "0  Bach Trumpet Mouthpiece 3C   65.0  2022-10-14\n"
     ]
    }
   ],
   "source": [
    "df = pd.read_csv(r\"C:\\Users\\Reed\\AmazonWebScraperData.csv\")\n",
    "print(df)"
   ]
  },
  {
   "cell_type": "code",
   "execution_count": null,
   "id": "2c77cc55",
   "metadata": {},
   "outputs": [],
   "source": [
    "#Sends an email to yourself to notify if the price drops below a predetermined threshold.\n",
    "\n",
    "def send_mail():\n",
    "    server = smtplib.SMTP_SSL('smtp.gmail.com',465)\n",
    "    server.ehlo()\n",
    "    #server.starttls()\n",
    "    server.ehlo()\n",
    "    server.login('reed17@sbcglobal.net','xxxxxxxxxxxx')\n",
    "    \n",
    "    subject = \"The Mouthpiece you want is below $60! Now is your chance to buy!\"\n",
    "    body = \"Reed, This is the moment we have been waiting for. Now is your chance to pick up the trumpet mouthpiece you have been wanting. Don't mess it up! Link here: https://www.amazon.com/Bach-3513C-Trumpet-Mouthpiece-3C/dp/B0002E2ACK/ref=sr_1_5?keywords=bach%2Btrumpet%2Bmouthpiece%2B3c&qid=1665789238&qu=eyJxc2MiOiIyLjUxIiwicXNhIjoiMS4wNiIsInFzcCI6IjAuNzAifQ%3D%3D&sprefix=bach%2Btrumpet%2B%2Caps%2C102&sr=8-5&ufe=app_do%3Aamzn1.fos.006c50ae-5d4c-4777-9bc0-4513d670b6bc&th=1\"\n",
    "   \n",
    "    msg = f\"Subject: {subject}\\n\\n{body}\"\n",
    "    \n",
    "    server.sendmail(\n",
    "        'reed17@sbcglobal.net',\n",
    "        msg\n",
    "     \n",
    "    )"
   ]
  }
 ],
 "metadata": {
  "kernelspec": {
   "display_name": "Python 3 (ipykernel)",
   "language": "python",
   "name": "python3"
  },
  "language_info": {
   "codemirror_mode": {
    "name": "ipython",
    "version": 3
   },
   "file_extension": ".py",
   "mimetype": "text/x-python",
   "name": "python",
   "nbconvert_exporter": "python",
   "pygments_lexer": "ipython3",
   "version": "3.9.12"
  }
 },
 "nbformat": 4,
 "nbformat_minor": 5
}
